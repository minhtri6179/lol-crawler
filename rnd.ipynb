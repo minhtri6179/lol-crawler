{
 "cells": [
  {
   "cell_type": "code",
   "execution_count": 70,
   "metadata": {},
   "outputs": [],
   "source": [
    "from dotenv import load_dotenv\n",
    "import os\n",
    "import requests \n",
    "import pandas as pd \n",
    "import urllib\n",
    "import datetime"
   ]
  },
  {
   "cell_type": "code",
   "execution_count": 14,
   "metadata": {},
   "outputs": [
    {
     "name": "stdout",
     "output_type": "stream",
     "text": [
      "riot/account/v1/accounts/by-riot-id/Begamimi/VN2\n"
     ]
    },
    {
     "data": {
      "text/plain": [
       "'7llZp-BrYC8yDTt2Iz24LF-AB7L0sYVyQ3g3V2sRKwhRGdDTuS5DTkQXiP_xxP--2Bs-MyASl9ykCA'"
      ]
     },
     "execution_count": 14,
     "metadata": {},
     "output_type": "execute_result"
    }
   ],
   "source": [
    "load_dotenv()\n",
    "API_KEY = os.getenv(\"RIOT_API_KEY\")\n",
    "def get_puuid(game_name=None, tag_line=None, regions=\"asia\"):\n",
    "    root_url = f\"https://{regions}.api.riotgames.com/\"\n",
    "    endpoint = f\"riot/account/v1/accounts/by-riot-id/{urllib.parse.quote(game_name)}/{tag_line}\"\n",
    "    response = requests.get(root_url + endpoint, params={\"api_key\": API_KEY})\n",
    "    print(endpoint)\n",
    "    return response.json()['puuid']\n",
    "get_puuid(game_name=\"Begamimi\",tag_line=\"VN2\")"
   ]
  },
  {
   "cell_type": "code",
   "execution_count": 171,
   "metadata": {},
   "outputs": [],
   "source": [
    "def get_match_history_id(puuid=None, region=\"sea\", count=1):\n",
    "    root_url = f\"https://{region}.api.riotgames.com/\"\n",
    "    endpoint = f\"lol/match/v5/matches/by-puuid/{puuid}/ids\"\n",
    "    response = requests.get(root_url + endpoint, params={\"api_key\": API_KEY, \"count\": count})\n",
    "    return response.json()\n",
    "\n",
    "# https://sea.api.riotgames.com/lol/match/v5/matches/VN2_427606326?api_key=RGAPI-6f5ac205-7339-439a-913a-6be684582d04\n",
    "\n",
    "def get_match_history_details(match_id=None, region=\"sea\"):\n",
    "    root_url = f\"https://{region}.api.riotgames.com/\"\n",
    "    endpoint = f\"lol/match/v5/matches/{match_id}\"\n",
    "    response = requests.get(root_url + endpoint, params={\"api_key\": API_KEY})\n",
    "    return response.json()\n",
    "\n",
    "latest_match_history_id = get_match_history_id(\"7llZp-BrYC8yDTt2Iz24LF-AB7L0sYVyQ3g3V2sRKwhRGdDTuS5DTkQXiP_xxP--2Bs-MyASl9ykCA\")\n",
    "match_result = get_match_history_details(latest_match_history_id[0])"
   ]
  },
  {
   "cell_type": "code",
   "execution_count": 172,
   "metadata": {},
   "outputs": [],
   "source": [
    "def get_detail_info_with_id_game_name(match_result, riot_id_game_name):\n",
    "    res = {}\n",
    "    for participant in match_result['info']['participants']:\n",
    "        if participant['riotIdGameName'] == riot_id_game_name:\n",
    "            res = {\n",
    "                'champion': participant['championName'],\n",
    "                'deaths': participant['deaths'],\n",
    "                'double_kills': participant['doubleKills'],\n",
    "                'triple_kills': participant['tripleKills'],\n",
    "                'quadra_kills': participant['quadraKills'],\n",
    "                'penta_kills': participant['pentaKills'],\n",
    "                'dragon_kills': participant['dragonKills'],\n",
    "                'kills': participant['kills'],\n",
    "                'is_win': participant['win'],\n",
    "                'longest_time_spent_living': participant['longestTimeSpentLiving'],\n",
    "                'total_damage_dealt_to_champions': participant['totalDamageDealtToChampions'],\n",
    "            }\n",
    "    \n",
    "    return res\n",
    "    "
   ]
  },
  {
   "cell_type": "code",
   "execution_count": 174,
   "metadata": {},
   "outputs": [
    {
     "data": {
      "text/plain": [
       "{'champion': 'Nasus',\n",
       " 'deaths': 10,\n",
       " 'double_kills': 1,\n",
       " 'triple_kills': 0,\n",
       " 'quadra_kills': 0,\n",
       " 'penta_kills': 0,\n",
       " 'dragon_kills': 0,\n",
       " 'kills': 10,\n",
       " 'is_win': True,\n",
       " 'longest_time_spent_living': 619,\n",
       " 'total_damage_dealt_to_champions': 41638}"
      ]
     },
     "execution_count": 174,
     "metadata": {},
     "output_type": "execute_result"
    }
   ],
   "source": [
    "get_detail_info_with_id_game_name(match_result,\"Begamimi\")"
   ]
  },
  {
   "cell_type": "code",
   "execution_count": 176,
   "metadata": {},
   "outputs": [
    {
     "data": {
      "text/plain": [
       "2121"
      ]
     },
     "execution_count": 176,
     "metadata": {},
     "output_type": "execute_result"
    }
   ],
   "source": [
    "def days_hours_minutes(td):\n",
    "    return td.days, td.seconds//3600, (td.seconds//60)%60\n",
    "\n",
    "# Duration\n",
    "duration = match_result['info']['gameDuration']\n",
    "hour_minute = str(datetime.timedelta(seconds=duration))\n",
    "\n",
    "# Time end\n",
    "game_end_timestamp = match_result['info']['gameEndTimestamp'] / 1000\n",
    "date_from_timestamp = datetime.datetime.fromtimestamp(game_end_timestamp)\n",
    "current_date = datetime.datetime.now()\n",
    "duration = current_date - date_from_timestamp\n",
    "(hour, minute, second) = days_hours_minutes(duration)\n",
    "\n",
    "# The result\n",
    "detail_info = get_detail_info_with_id_game_name(match_result,\"Begamimi\")"
   ]
  }
 ],
 "metadata": {
  "kernelspec": {
   "display_name": ".env",
   "language": "python",
   "name": "python3"
  },
  "language_info": {
   "codemirror_mode": {
    "name": "ipython",
    "version": 3
   },
   "file_extension": ".py",
   "mimetype": "text/x-python",
   "name": "python",
   "nbconvert_exporter": "python",
   "pygments_lexer": "ipython3",
   "version": "3.11.9"
  }
 },
 "nbformat": 4,
 "nbformat_minor": 2
}
